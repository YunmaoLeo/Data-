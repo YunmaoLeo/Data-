{
 "cells": [
  {
   "source": [
    "## 插入排序"
   ],
   "cell_type": "markdown",
   "metadata": {}
  },
  {
   "cell_type": "code",
   "execution_count": 1,
   "id": "brutal-airplane",
   "metadata": {},
   "outputs": [],
   "source": [
    "a = [1,23,4,5,3]"
   ]
  },
  {
   "cell_type": "code",
   "execution_count": 5,
   "metadata": {},
   "outputs": [],
   "source": [
    "def insertsort(a):\n",
    "    for i in range(1,len(a)):\n",
    "        # 将a[i] 插入到 a[i-1],a[i-2],a[i-3]...中\n",
    "        for j in range(i,0,-1):\n",
    "            if a[j]<a[j-1]:\n",
    "                a[j],a[j-1]=a[j-1],a[j]"
   ]
  },
  {
   "cell_type": "code",
   "execution_count": 11,
   "metadata": {},
   "outputs": [
    {
     "output_type": "execute_result",
     "data": {
      "text/plain": [
       "[1, 3, 4, 5, 23]"
      ]
     },
     "metadata": {},
     "execution_count": 11
    }
   ],
   "source": [
    "insertsort(a)\n",
    "a"
   ]
  },
  {
   "source": [
    "## 希尔排序"
   ],
   "cell_type": "markdown",
   "metadata": {}
  },
  {
   "cell_type": "code",
   "execution_count": 19,
   "metadata": {},
   "outputs": [],
   "source": [
    "def ShellSort(a):\n",
    "    N = len(a)\n",
    "    h = 1\n",
    "    while (h < N/3):\n",
    "        h = 3*h + 1 # (1,4,13,40,121,364)\n",
    "    while (h >= 1):\n",
    "        # 将数组变为h有序\n",
    "        for i in range(h,N):\n",
    "            # 执行插入排序\n",
    "            for j in range(i,h-1,-h):\n",
    "                if(a[j] < a[j-h]):\n",
    "                    a[j],a[j-h]=a[j-h],a[j]\n",
    "        h = h//3"
   ]
  },
  {
   "cell_type": "code",
   "execution_count": 20,
   "metadata": {},
   "outputs": [
    {
     "output_type": "execute_result",
     "data": {
      "text/plain": [
       "[1, 1, 2, 2, 3, 3, 5, 5, 6, 6, 7, 7, 7, 8]"
      ]
     },
     "metadata": {},
     "execution_count": 20
    }
   ],
   "source": [
    "a=[1,5,7,3,6,8,2,6,7,1,2,5,7,3]\n",
    "ShellSort(a)\n",
    "a"
   ]
  },
  {
   "cell_type": "code",
   "execution_count": 21,
   "metadata": {},
   "outputs": [],
   "source": [
    "def quicksort(a):\n",
    "    if len(a)==0:\n",
    "        return a\n",
    "    x = a[0]\n",
    "    left = [i for i in a[1:] if i<x]\n",
    "    right = [i for i in a[1:] if i >=x]\n",
    "    return quicksort(left) + [x] + quicksort(right)"
   ]
  },
  {
   "cell_type": "code",
   "execution_count": 22,
   "metadata": {},
   "outputs": [
    {
     "output_type": "execute_result",
     "data": {
      "text/plain": [
       "[1, 1, 2, 2, 3, 3, 5, 5, 6, 6, 7, 7, 7, 8]"
      ]
     },
     "metadata": {},
     "execution_count": 22
    }
   ],
   "source": [
    "a=[1,5,7,3,6,8,2,6,7,1,2,5,7,3]\n",
    "quicksort(a)"
   ]
  },
  {
   "cell_type": "code",
   "execution_count": null,
   "metadata": {},
   "outputs": [],
   "source": []
  },
  {
   "cell_type": "code",
   "execution_count": 3,
   "metadata": {},
   "outputs": [
    {
     "output_type": "execute_result",
     "data": {
      "text/plain": [
       "3"
      ]
     },
     "metadata": {},
     "execution_count": 3
    }
   ],
   "source": [
    "1 + 2"
   ]
  },
  {
   "cell_type": "code",
   "execution_count": 16,
   "metadata": {},
   "outputs": [],
   "source": [
    "j = 1"
   ]
  },
  {
   "source": [
    "## 基于无序链表的顺序查找"
   ],
   "cell_type": "markdown",
   "metadata": {}
  },
  {
   "cell_type": "code",
   "execution_count": 498,
   "metadata": {},
   "outputs": [],
   "source": [
    "\n",
    "class LinkedList():\n",
    "    class Node():\n",
    "        def __init__ (self,_key,_val,next):\n",
    "            self.key = _key\n",
    "            self.value = _val\n",
    "            self.next =next\n",
    "\n",
    "    def __init__(self):\n",
    "        self.head = self.Node(None,None,None)\n",
    "        self.size = 0\n",
    "\n",
    "    def size(self):\n",
    "        return self.size\n",
    "\n",
    "    def get(self,_key):\n",
    "        node = self.head\n",
    "        while node:\n",
    "            if(node.key==_key):\n",
    "                return node.value\n",
    "            node = node.next\n",
    "        return None\n",
    "\n",
    "    def put(self,_key,_value):\n",
    "        node = self.head\n",
    "        while node:\n",
    "            if(node.key == _key):\n",
    "                node.value = _value\n",
    "                return \n",
    "            node = node.next\n",
    "        self.head = self.Node(_key, _value,self.head)\n",
    "        self.size += 1\n",
    "\n",
    "    def delete(self,_key):\n",
    "        node = self.head\n",
    "        while node:\n",
    "            if(node.key == _key):\n",
    "                node.value = None\n",
    "                return\n",
    "\n",
    "    def keys(self):\n",
    "        node = self.head\n",
    "        all_keys = []\n",
    "        while node:\n",
    "            if node.value and node.key:\n",
    "                all_keys.append(node.key)\n",
    "            node = node.next\n",
    "        all_keys.sort()\n",
    "        return all_keys\n"
   ]
  },
  {
   "cell_type": "code",
   "execution_count": 499,
   "metadata": {},
   "outputs": [],
   "source": [
    "a = LinkedList()"
   ]
  },
  {
   "cell_type": "code",
   "execution_count": 500,
   "metadata": {},
   "outputs": [],
   "source": [
    "a.put(2,1)\n",
    "a.put(4,2)\n",
    "a.put(-1,2)"
   ]
  },
  {
   "cell_type": "code",
   "execution_count": 501,
   "metadata": {},
   "outputs": [],
   "source": [
    "a.put(1,2)"
   ]
  },
  {
   "cell_type": "code",
   "execution_count": 504,
   "metadata": {},
   "outputs": [
    {
     "output_type": "execute_result",
     "data": {
      "text/plain": [
       "[-1, 2, 4]"
      ]
     },
     "metadata": {},
     "execution_count": 504
    }
   ],
   "source": [
    "a.keys()"
   ]
  },
  {
   "cell_type": "code",
   "execution_count": 503,
   "metadata": {},
   "outputs": [],
   "source": [
    "a.delete(1)"
   ]
  },
  {
   "cell_type": "code",
   "execution_count": null,
   "metadata": {},
   "outputs": [],
   "source": []
  }
 ],
 "metadata": {
  "kernelspec": {
   "name": "python388jvsc74a57bd09e277db1918dec807cac7b3678739ef6c1d300911c28933557b72e72a3e1dfb8",
   "display_name": "Python 3.8.8 64-bit ('FAIens': conda)"
  },
  "latex_envs": {
   "LaTeX_envs_menu_present": true,
   "autoclose": false,
   "autocomplete": true,
   "bibliofile": "biblio.bib",
   "cite_by": "apalike",
   "current_citInitial": 1,
   "eqLabelWithNumbers": true,
   "eqNumInitial": 1,
   "hotkeys": {
    "equation": "Ctrl-E",
    "itemize": "Ctrl-I"
   },
   "labels_anchors": false,
   "latex_user_defs": false,
   "report_style_numbering": false,
   "user_envs_cfg": false
  },
  "toc": {
   "base_numbering": 1,
   "nav_menu": {},
   "number_sections": true,
   "sideBar": true,
   "skip_h1_title": false,
   "title_cell": "Table of Contents",
   "title_sidebar": "Contents",
   "toc_cell": false,
   "toc_position": {},
   "toc_section_display": true,
   "toc_window_display": false
  }
 },
 "nbformat": 4,
 "nbformat_minor": 5
}