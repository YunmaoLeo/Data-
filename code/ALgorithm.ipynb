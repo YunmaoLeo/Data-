{
 "cells": [
  {
   "source": [
    "## 插入排序"
   ],
   "cell_type": "markdown",
   "metadata": {}
  },
  {
   "cell_type": "code",
   "execution_count": 1,
   "id": "brutal-airplane",
   "metadata": {},
   "outputs": [],
   "source": [
    "a = [1,23,4,5,3]"
   ]
  },
  {
   "cell_type": "code",
   "execution_count": 5,
   "metadata": {},
   "outputs": [],
   "source": [
    "def insertsort(a):\n",
    "    for i in range(1,len(a)):\n",
    "        # 将a[i] 插入到 a[i-1],a[i-2],a[i-3]...中\n",
    "        for j in range(i,0,-1):\n",
    "            if a[j]<a[j-1]:\n",
    "                a[j],a[j-1]=a[j-1],a[j]"
   ]
  },
  {
   "cell_type": "code",
   "execution_count": 11,
   "metadata": {},
   "outputs": [
    {
     "output_type": "execute_result",
     "data": {
      "text/plain": [
       "[1, 3, 4, 5, 23]"
      ]
     },
     "metadata": {},
     "execution_count": 11
    }
   ],
   "source": [
    "insertsort(a)\n",
    "a"
   ]
  },
  {
   "source": [
    "## 希尔排序"
   ],
   "cell_type": "markdown",
   "metadata": {}
  },
  {
   "cell_type": "code",
   "execution_count": 19,
   "metadata": {},
   "outputs": [],
   "source": [
    "def ShellSort(a):\n",
    "    N = len(a)\n",
    "    h = 1\n",
    "    while (h < N/3):\n",
    "        h = 3*h + 1 # (1,4,13,40,121,364)\n",
    "    while (h >= 1):\n",
    "        # 将数组变为h有序\n",
    "        for i in range(h,N):\n",
    "            # 执行插入排序\n",
    "            for j in range(i,h-1,-h):\n",
    "                if(a[j] < a[j-h]):\n",
    "                    a[j],a[j-h]=a[j-h],a[j]\n",
    "        h = h//3"
   ]
  },
  {
   "cell_type": "code",
   "execution_count": 20,
   "metadata": {},
   "outputs": [
    {
     "output_type": "execute_result",
     "data": {
      "text/plain": [
       "[1, 1, 2, 2, 3, 3, 5, 5, 6, 6, 7, 7, 7, 8]"
      ]
     },
     "metadata": {},
     "execution_count": 20
    }
   ],
   "source": [
    "a=[1,5,7,3,6,8,2,6,7,1,2,5,7,3]\n",
    "ShellSort(a)\n",
    "a"
   ]
  },
  {
   "cell_type": "code",
   "execution_count": 21,
   "metadata": {},
   "outputs": [],
   "source": [
    "def quicksort(a):\n",
    "    if len(a)==0:\n",
    "        return a\n",
    "    x = a[0]\n",
    "    left = [i for i in a[1:] if i<x]\n",
    "    right = [i for i in a[1:] if i >=x]\n",
    "    return quicksort(left) + [x] + quicksort(right)"
   ]
  },
  {
   "cell_type": "code",
   "execution_count": 22,
   "metadata": {},
   "outputs": [
    {
     "output_type": "execute_result",
     "data": {
      "text/plain": [
       "[1, 1, 2, 2, 3, 3, 5, 5, 6, 6, 7, 7, 7, 8]"
      ]
     },
     "metadata": {},
     "execution_count": 22
    }
   ],
   "source": [
    "a=[1,5,7,3,6,8,2,6,7,1,2,5,7,3]\n",
    "quicksort(a)"
   ]
  },
  {
   "cell_type": "code",
   "execution_count": null,
   "metadata": {},
   "outputs": [],
   "source": []
  },
  {
   "cell_type": "code",
   "execution_count": 1,
   "metadata": {},
   "outputs": [
    {
     "output_type": "execute_result",
     "data": {
      "text/plain": [
       "2"
      ]
     },
     "metadata": {},
     "execution_count": 1
    }
   ],
   "source": [
    "1 + 1"
   ]
  },
  {
   "cell_type": "code",
   "execution_count": 16,
   "metadata": {},
   "outputs": [],
   "source": [
    "j = 1"
   ]
  },
  {
   "cell_type": "code",
   "execution_count": null,
   "metadata": {},
   "outputs": [],
   "source": []
  }
 ],
 "metadata": {
  "kernelspec": {
   "name": "python3",
   "display_name": "Python 3",
   "language": "python"
  },
  "latex_envs": {
   "LaTeX_envs_menu_present": true,
   "autoclose": false,
   "autocomplete": true,
   "bibliofile": "biblio.bib",
   "cite_by": "apalike",
   "current_citInitial": 1,
   "eqLabelWithNumbers": true,
   "eqNumInitial": 1,
   "hotkeys": {
    "equation": "Ctrl-E",
    "itemize": "Ctrl-I"
   },
   "labels_anchors": false,
   "latex_user_defs": false,
   "report_style_numbering": false,
   "user_envs_cfg": false
  },
  "toc": {
   "base_numbering": 1,
   "nav_menu": {},
   "number_sections": true,
   "sideBar": true,
   "skip_h1_title": false,
   "title_cell": "Table of Contents",
   "title_sidebar": "Contents",
   "toc_cell": false,
   "toc_position": {},
   "toc_section_display": true,
   "toc_window_display": false
  }
 },
 "nbformat": 4,
 "nbformat_minor": 5
}